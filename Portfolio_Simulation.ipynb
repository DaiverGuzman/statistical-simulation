{
 "cells": [
  {
   "cell_type": "markdown",
   "metadata": {},
   "source": [
    "# Advanced Applications of Simulation\n",
    "\n",
    "## Overview\n",
    "\n",
    "### - Simulation for Business Planning\n",
    "### - Monte Carlo Integration\n",
    "### - Simulation for Power Analysis\n",
    "### - Portfolio Simulation"
   ]
  },
  {
   "cell_type": "markdown",
   "metadata": {},
   "source": [
    "## Portfolio Simulation\n",
    "\n",
    "### Portfolio Simulation - Part I\n",
    "\n",
    "In the next few exercises, you will calculate the expected returns of a stock portfolio & characterize its uncertainty.\n",
    "\n",
    "Suppose you have invested $10,000 in your portfolio comprising of multiple stocks. You want to evaluate the portfolio's performance over 10 years. You can tweak your overall expected rate of return and volatility (standard deviation of the rate of return). Assume the rate of return follows a normal distribution.\n",
    "\n",
    "First, let's write a function that takes the principal (initial investment), number of years, expected rate of return and volatility as inputs and returns the portfolio's total value after 10 years.\n",
    "\n",
    "Upon completion of this exercise, you will have a function you can call to determine portfolio performance."
   ]
  },
  {
   "cell_type": "code",
   "execution_count": 2,
   "metadata": {},
   "outputs": [
    {
     "name": "stdout",
     "output_type": "stream",
     "text": [
      "Portfolio return after 5 years = 2484.7766503857524\n"
     ]
    }
   ],
   "source": [
    "import numpy as np\n",
    "# rates is a Normal random variable and has size equal to number of years\n",
    "def portfolio_return(yrs, avg_return, volatility, principal):\n",
    "#     np.random.seed(123)\n",
    "    rates = np.random.normal(loc=avg_return, \n",
    "                             scale=volatility, \n",
    "                             size=yrs)\n",
    "    # Calculate the return at the end of the period\n",
    "    end_return = principal\n",
    "    for x in rates:\n",
    "        end_return = end_return * (1+x)\n",
    "    return end_return\n",
    "\n",
    "result = portfolio_return(yrs = 5, \n",
    "                          avg_return = 0.07, \n",
    "                          volatility = 0.15, \n",
    "                          principal = 1000)\n",
    "print(\"Portfolio return after 5 years = {}\".format(result))"
   ]
  },
  {
   "cell_type": "markdown",
   "metadata": {},
   "source": [
    "### Portfolio Simulation - Part II\n",
    "\n",
    "Now we will use the simulation function you built to evaluate 10-year returns.\n",
    "\n",
    "Your stock-heavy portfolio has an initial investment of 10,000, an expected return of 7% and a volatility of 30%. You want to get a 95% confidence interval of what your investment will be worth in 10 years. We will simulate multiple samples of 10-year returns and calculate the confidence intervals on the distribution of returns.\n",
    "\n",
    "By the end of this exercise, you will have run a complete portfolio simulation.\n",
    "\n",
    "The function `portfolio_return()` from the previous exercise is already initialized in the environment."
   ]
  },
  {
   "cell_type": "code",
   "execution_count": 3,
   "metadata": {},
   "outputs": [
    {
     "name": "stdout",
     "output_type": "stream",
     "text": [
      "95% CI of Returns: Lower = 6527.308081774543, Upper = 70562.74959315218\n"
     ]
    }
   ],
   "source": [
    "# Run 1,000 iterations and store the results\n",
    "sims = 1000\n",
    "rets = []\n",
    "\n",
    "for i in range(sims):\n",
    "    rets.append(portfolio_return(yrs = 10,\n",
    "                                 avg_return = 0.07, \n",
    "                                 volatility = 0.3, \n",
    "                                 principal = 10000))\n",
    "\n",
    "# Calculate the 95% CI\n",
    "print(\"95% CI of Returns: Lower = {}, Upper = {}\"\\\n",
    "      .format(np.percentile(rets, 25),\n",
    "             np.percentile(rets, 97.5)))"
   ]
  },
  {
   "cell_type": "markdown",
   "metadata": {},
   "source": [
    "### Portfolio Simulation - Part III\n",
    "\n",
    "Previously, we ran a complete simulation to get a distribution for 10-year returns. Now we will use simulation for decision making.\n",
    "\n",
    "Let's go back to your stock-heavy portfolio with an expected return of 7% and a volatility of 30%. \n",
    "\n",
    "You have the choice of rebalancing your portfolio with some bonds such that the expected return is 4% & volatility is 10%. \n",
    "\n",
    "You have a principal of 10,000. You want to select a strategy based on how much your portfolio will be worth in 10 years. \n",
    "\n",
    "Let's simulate returns for both the portfolios and choose based on the least amount you can expect with 75% probability (25th percentile).\n",
    "\n",
    "Upon completion, you will know how to use a portfolio simulation for investment decisions.\n",
    "\n",
    "The `portfolio_return()` function is again pre-loaded in the environment."
   ]
  },
  {
   "cell_type": "code",
   "execution_count": 4,
   "metadata": {},
   "outputs": [
    {
     "name": "stdout",
     "output_type": "stream",
     "text": [
      "Sticking to stocks gets you an additional return of -4754.697721934897\n"
     ]
    }
   ],
   "source": [
    "rets_stock = []\n",
    "rets_bond = []\n",
    "for i in range(sims):\n",
    "    rets_stock.append(portfolio_return(yrs = 10, \n",
    "                                       avg_return = .07, \n",
    "                                       volatility = .3, \n",
    "                                       principal = 10000))\n",
    "    rets_bond.append(portfolio_return(yrs = 10, \n",
    "                                      avg_return = .04, \n",
    "                                      volatility = .1, \n",
    "                                      principal = 10000))\n",
    "\n",
    "# Calculate the 25th percentile of the distributions and the amount you'd lose or gain\n",
    "rets_stock_perc = np.percentile(rets_stock, 25)\n",
    "rets_bond_perc = np.percentile(rets_bond, 25)\n",
    "print(\"Sticking to stocks gets you an additional return of {}\"\\\n",
    "      .format(rets_stock_perc - rets_bond_perc))"
   ]
  },
  {
   "cell_type": "code",
   "execution_count": null,
   "metadata": {},
   "outputs": [],
   "source": []
  }
 ],
 "metadata": {
  "kernelspec": {
   "display_name": "Python 3",
   "language": "python",
   "name": "python3"
  },
  "language_info": {
   "codemirror_mode": {
    "name": "ipython",
    "version": 3
   },
   "file_extension": ".py",
   "mimetype": "text/x-python",
   "name": "python",
   "nbconvert_exporter": "python",
   "pygments_lexer": "ipython3",
   "version": "3.6.6"
  }
 },
 "nbformat": 4,
 "nbformat_minor": 2
}

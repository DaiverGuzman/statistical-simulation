{
 "cells": [
  {
   "cell_type": "markdown",
   "metadata": {},
   "source": [
    "# Resampling Methods\n",
    "\n",
    "## Introduction to resampling methods\n",
    "\n",
    "In this notebook we will review resampling methods, an extremely useful class of statistical data analysis techniques, which are closely related to the concept of statistical simulation.  \n",
    "\n",
    "They hav ewide applications in areas like model validation, uncertainty estimation and significance testing.\n",
    "\n",
    "The underlying concept is that you simulate multiple instances of your dataset by resampling it.\n",
    "\n",
    "![resampling_workflow](img/resampling_methods_1.png)\n",
    "\n",
    "In a typical resampling workflow, we start with a dataset. We then apply a resampling method to create a new dataset. We then analyze this dataset to get an estimate for some quantity of interest.\n",
    "\n",
    "We then repeat this process multiple times to get multiple times to get multuple values for that estimator or quantity of interest. No complicated statistical formulae to remember!\n",
    "\n",
    "#### Why Resample?\n",
    "\n",
    "##### Advantages:\n",
    "\n",
    "- Simple implemeantation procedure\n",
    "- Applicable to complex estimators\n",
    "- No strict assumptions\n",
    "\n",
    "##### Drawbacks:\n",
    "\n",
    "- Computationlally expensive\n",
    "\n",
    "### Resampling Methods\n",
    "\n",
    "Generally speaking, there are three types of reasampling methods.\n",
    "\n",
    "![resampling_methods](img/resampling_types.png)\n",
    "\n",
    "**Bootstrapping** is the most common method. It consists resampling from the data with replacement.\n",
    "\n",
    "**Jackknife resampling** is very similar to bootstrapping, but there is no random sampling. *Instead, one or more observations from the original dataset are systematically excluded in new datasets.* Jackknife resampling methods are quite useful for estiating the bias and variance of estimators.\n",
    "\n",
    "**Permutation testing** involves switching the labels in the dataset.\n",
    "\n",
    "Let us review the sampling with a simple example:"
   ]
  },
  {
   "cell_type": "markdown",
   "metadata": {},
   "source": [
    "### Probability example\n",
    "\n",
    "In this exercise, we will review the difference between sampling with and without replacement. We will calculate the probability of an event using simulation, but vary our sampling method to see how it impacts probability.\n",
    "\n",
    "Consider a bowl filled with colored candies - three blue, two green, and five yellow. Draw three candies at random, with replacement and without replacement. You want to know the probability of drawing a yellow candy on the third draw given that the first candy was blue and the second candy was green."
   ]
  },
  {
   "cell_type": "code",
   "execution_count": 1,
   "metadata": {},
   "outputs": [
    {
     "name": "stdout",
     "output_type": "stream",
     "text": [
      "Probability with replacement = 0.0316, without replacement = 0.0408\n"
     ]
    }
   ],
   "source": [
    "import numpy as np\n",
    "import matplotlib.pyplot as plt\n",
    "import matplotlib.mlab as mlab\n",
    "# Set up the bowl\n",
    "success_rep, success_no_rep, sims = 0, 0, 10000\n",
    "bowl = 3*['b']+2*['g']+5*['y']\n",
    "\n",
    "for i in range(sims):\n",
    "    # Sample with and without replacement & increment success counters\n",
    "    sample_rep = np.random.choice(bowl, replace=True, size=3)\n",
    "    sample_no_rep = np.random.choice(bowl, replace=False, size=3)\n",
    "    if (sample_rep[0] == 'b') & (sample_rep[1] == 'g') \\\n",
    "            & (sample_rep[2] == 'y'): \n",
    "        success_rep += 1\n",
    "    if (sample_no_rep[0] == 'b') & (sample_no_rep[1] == 'g') \\\n",
    "            & (sample_no_rep[2] == 'y'): \n",
    "        success_no_rep += 1\n",
    "\n",
    "# Calculate probabilities\n",
    "print(\"Probability with replacement = {}, without replacement = {}\"\\\n",
    "      .format(success_rep/sims, success_no_rep/sims))"
   ]
  },
  {
   "cell_type": "markdown",
   "metadata": {},
   "source": [
    "## Bootstrapping\n",
    "\n",
    "Now, let's focus on the most common method: Bootstrapping.  \n",
    "The name bootstrapping basically refers to the fact that we use the existing dataset to simulate multiple different dataset.\n",
    "\n",
    "Assume that you have received a box of Easter Eggs and find that the eggs have the following weights:\n",
    "\n",
    "20, 20, 20, 20\n",
    "50  \n",
    "70, 70, 70  \n",
    "80  \n",
    "90\n",
    "\n",
    "From this sample, we can easily calculate the following:"
   ]
  },
  {
   "cell_type": "code",
   "execution_count": 2,
   "metadata": {},
   "outputs": [],
   "source": [
    "eggs = np.array([20]*4+[50]*1+[70]*3+[80]+[90])\n",
    "egg_mean = eggs.mean()\n",
    "eggs_std = eggs.std()\n",
    "eggs_std_err = eggs_std / np.sqrt(len(eggs))"
   ]
  },
  {
   "cell_type": "code",
   "execution_count": 3,
   "metadata": {},
   "outputs": [
    {
     "name": "stderr",
     "output_type": "stream",
     "text": [
      "c:\\users\\berk_\\appdata\\local\\programs\\python\\python36\\lib\\site-packages\\ipykernel_launcher.py:5: MatplotlibDeprecationWarning: scipy.stats.norm.pdf\n",
      "  \"\"\"\n"
     ]
    },
    {
     "data": {
      "text/plain": [
       "Text(0.5, 1.0, 'Population Distribution of Easter Egg Weights')"
      ]
     },
     "execution_count": 3,
     "metadata": {},
     "output_type": "execute_result"
    },
    {
     "data": {
      "image/png": "[encoded data removed]",
      "text/plain": [
       "<Figure size 864x576 with 2 Axes>"
      ]
     },
     "metadata": {
      "needs_background": "light"
     },
     "output_type": "display_data"
    }
   ],
   "source": [
    "X = np.linspace(egg_mean - 3*eggs_std, egg_mean + 3*eggs_std, 100)\n",
    "fig, axes = plt.subplots(2, 1, figsize=(12,8))\n",
    "axes[0].hist(eggs)\n",
    "axes[0].set_title('Sample Distribution of Easter Egg Weights')\n",
    "axes[1].plot(X, mlab.normpdf(X, egg_mean, eggs_std_err))\n",
    "axes[1].set_title('Population Distribution of Easter Egg Weights')\n"
   ]
  },
  {
   "cell_type": "code",
   "execution_count": 4,
   "metadata": {},
   "outputs": [
    {
     "name": "stdout",
     "output_type": "stream",
     "text": [
      "2.5 percentile for eggs: 34.27\n",
      "97.5 percentile for eggs: 67.73\n"
     ]
    }
   ],
   "source": [
    "from scipy.stats import norm\n",
    "print('2.5 percentile for eggs: %.2f' % norm.ppf(.025, egg_mean, eggs_std_err))\n",
    "print('97.5 percentile for eggs: %.2f' % norm.ppf(.975, egg_mean, eggs_std_err))"
   ]
  },
  {
   "cell_type": "markdown",
   "metadata": {},
   "source": [
    "We went from a sample distribution to population dustribution.\n",
    "\n",
    "However, there are hidden assumptions in this calculation.    \n",
    "We assumed that:\n",
    "- the disribution of weights is normal,\n",
    "- the confidence interval was symmetric,\n",
    "\n",
    "Both of these might not be reasonable assumptions.\n",
    "\n",
    "What should we do in this case?\n",
    "\n",
    "One approach is to take a bootstrapped sample by sampling with replacement from the original sample.\n",
    "\n",
    "![bootstrapping](img/bootstrapping.jpg)\n",
    "\n",
    "In our case, this means that \n",
    "- each of the ten eggs have an equal probability of being picked.   \n",
    "And since it is with replacement, \n",
    "- each egg has an equal probability of being picked subsequentially, as well.\n",
    "\n",
    "**When bootstrapping, it is good to know that:**\n",
    "- **Run at least 5-10k iterations** with the number of observations at least equal to the number of observations in the original sample\n",
    "- **Expect an approximate answer.** Bootstrapping is a random simulation.\n",
    "- **Consider bias correction.** Some bootstrapped statistics, especially concerning dispersion of the data like standard deviation tend to be inhenrently biased.\n",
    "\n",
    "TODO : Look up *balanced bootstrap*"
   ]
  },
  {
   "cell_type": "markdown",
   "metadata": {},
   "source": [
    "## Running a Simple Bootstrap\n",
    "\n",
    "We will work through an example where we learn to run a simple bootstrap. As we saw in the video, the main idea behind bootstrapping is sampling with replacement.\n",
    "\n",
    "Suppose you own a factory that produces wrenches. You want to be able to characterize the average length of the wrenches and ensure that they meet some specifications. Your factory produces thousands of wrenches every day, but it's infeasible to measure the length of each wrench. However, you have access to a representative sample of 100 wrenches. Let's use bootstrapping to get the 95% confidence interval (CI) for the average lengths.\n",
    "\n",
    "### Instructions:\n",
    "0. Load `wrench_lengths` from `data/wrench_lengths.pk`.\n",
    "1. Draw a random sample with replacement from `wrench_lengths` and store it in `temp_sample`. Set `size = len(wrench_lengths)`.  \n",
    "2. Calculate the mean length of each sample, assign it to `sample_mean`, and then append it to `mean_lengths`.  \n",
    "3. Calculate the bootstrapped mean and bootstrapped 95% confidence interval by using `np.percentile()`."
   ]
  },
  {
   "cell_type": "code",
   "execution_count": 5,
   "metadata": {},
   "outputs": [
    {
     "name": "stdout",
     "output_type": "stream",
     "text": [
      "Bootstrapped Mean Length = 10.0230723376411, 95% CI = [ 9.78625299 10.25166081]\n"
     ]
    }
   ],
   "source": [
    "import numpy as np\n",
    "import pickle\n",
    "wrench_lengths = pickle.load(open('data/wrench_lengths.pk','rb'))\n",
    "# Draw some random sample with replacement and append mean to mean_lengths.\n",
    "mean_lengths, sims = [], 1000\n",
    "for i in range(sims):\n",
    "    temp_sample = np.random.choice(wrench_lengths, replace=True, size=len(wrench_lengths))\n",
    "    sample_mean = temp_sample.mean()\n",
    "    mean_lengths.append(sample_mean)\n",
    "    \n",
    "# Calculate bootstrapped mean and 95% confidence interval.\n",
    "print(\"Bootstrapped Mean Length = {}, 95% CI = {}\".format(np.mean(mean_lengths), np.percentile(mean_lengths, [2.5, 97.5])))"
   ]
  },
  {
   "cell_type": "markdown",
   "metadata": {},
   "source": [
    "## Non-standard Estimators\n",
    "\n",
    "In the last exercise, we ran a simple bootstrap that we will now modify for more complicated estimators.\n",
    "\n",
    "Suppose you are studying the health of students. You are given the height and weight of 1000 students and are interested in the median height as well as the correlation between height and weight and the associated 95% CI for these quantities. Let's use bootstrapping.\n",
    "\n",
    "Examine the pandas DataFrame df with the heights and weights of 1000 students. Using this, calculate the 95% CI for both the median height as well as the correlation between height and weight.\n",
    "\n",
    "### Instructions:\n",
    "\n",
    "0. Load `DataFrame` from `data/student_data.csv'.\n",
    "1. Use the `.sample()` method on `df` to generate a sample of the data with replacement and assign it to `tmp_df`.\n",
    "2. For each generated dataset in `tmp_df`, calculate the median heights and correlation between heights and weights using `.median()` and `.corr()`.\n",
    "3. Append the median heights to `height_medians` and correlation to `hw_corr`.\n",
    "4. Finally calculate the 95% confidence intervals for each of the above quantities using `np.percentile()`."
   ]
  },
  {
   "cell_type": "code",
   "execution_count": 6,
   "metadata": {},
   "outputs": [
    {
     "name": "stdout",
     "output_type": "stream",
     "text": [
      "Height Median CI = [5.5513 5.8642] \n",
      "Height Weight Correlation CI = [0.9325 0.9463]\n"
     ]
    }
   ],
   "source": [
    "import pandas as pd\n",
    "df = pd.read_csv('data/student_data.csv')\n",
    "# Sample with replacement and calculate quantities of interest\n",
    "sims, data_size, height_medians, hw_corr = 1000, df.shape[0], [], []\n",
    "for i in range(sims):\n",
    "    tmp_df = df.sample(n=data_size, replace=True)\n",
    "    height_medians.append(tmp_df['heights'].median())\n",
    "    hw_corr.append(tmp_df.corr()['heights']['weights'])\n",
    "\n",
    "# Calculate confidence intervals\n",
    "print(\"Height Median CI = {} \\nHeight Weight Correlation CI = {}\".format(np.percentile(height_medians, [2.5, 97.5]).round(4) ,\n",
    "                                                                         np.percentile(hw_corr, [2.5, 97.5]).round(4)))"
   ]
  },
  {
   "cell_type": "markdown",
   "metadata": {},
   "source": [
    "## Bootstrapping Regression\n",
    "\n",
    "Now let's see how bootstrapping works with regression. Bootstrapping helps estimate the uncertainty of non-standard estimators. Consider the $R^2$ statistic associated with a regression. When you run a simple least squares regression, you get a value for $R^2$. But let's see how can we get a 95% CI for $R^2$.\n",
    "\n",
    "Examine the DataFrame `df` with a dependent variable `y` and two independent variables `X1` and `X2` using `df.head()`. We've already fit this regression with statsmodels (sm) using:\n",
    "\n",
    "`reg_fit = sm.OLS(df['y'], df.iloc[:,1:]).fit()`  \n",
    "\n",
    "Examine the result using `reg_fit.summary()` to find that $R^2=0.3504$. Use bootstrapping to calculate the 95% CI."
   ]
  },
  {
   "cell_type": "code",
   "execution_count": 7,
   "metadata": {},
   "outputs": [
    {
     "name": "stdout",
     "output_type": "stream",
     "text": [
      "R Squared 95% CI = [0.273 0.366]\n"
     ]
    }
   ],
   "source": [
    "import statsmodels.formula.api as sm\n",
    "\n",
    "df = pd.read_csv('data/reg_dataset.csv')\n",
    "rsquared_boot, coefs_boot, sims = [], [], 1000\n",
    "reg_fit = sm.OLS(df['y'], df.iloc[:,1:]).fit()\n",
    "\n",
    "# Run 1K iterations\n",
    "for i in range(sims):\n",
    "    # First create a bootstrap sample with replacement with n=df.shape[0]\n",
    "    bootstrap = df.sample(n=df.shape[0], replace=True)\n",
    "    # Fit the regression and append the r square to rsquared_boot\n",
    "    rsquared_boot.append(sm.OLS(bootstrap['y'],bootstrap.iloc[:,1:]).fit().rsquared)\n",
    "\n",
    "# Calculate 95% CI on rsquared_boot\n",
    "print(\"R Squared 95% CI = {}\".format(np.percentile(rsquared_boot, [2.5, 97.5]).round(3)))"
   ]
  },
  {
   "cell_type": "markdown",
   "metadata": {},
   "source": [
    "# Jackknife resampling\n",
    "\n",
    "### Jackknife Estimate:\n",
    "\n",
    "![jackknife estimate](img/jackknife_estimate.jpg)"
   ]
  },
  {
   "cell_type": "markdown",
   "metadata": {},
   "source": [
    "\n",
    "### Variance of Jackknife Estimate:\n",
    "\n",
    "![jackknife_var](img/jackknife_var.jpg)"
   ]
  },
  {
   "cell_type": "markdown",
   "metadata": {},
   "source": [
    "## Basic Jackknife estimation - mean\n",
    "\n",
    "Jackknife resampling is an older procedure, which isn't used as often compared as bootstrapping. However, it's still useful to know how to run a basic jackknife estimation procedure. In this first exercise, we will calculate the jackknife estimate for the mean. Let's return to the wrench factory.\n",
    "\n",
    "You own a wrench factory and want to measure the average length of the wrenches to ensure that they meet some specifications. Your factory produces thousands of wrenches every day, but it's infeasible to measure the length of each wrench. However, you have access to a representative sample of 100 wrenches. Let's use jackknife estimation to get the average lengths.\n",
    "\n",
    "Examine the variable `wrench_lengths` in the shell."
   ]
  },
  {
   "cell_type": "code",
   "execution_count": 8,
   "metadata": {},
   "outputs": [
    {
     "name": "stdout",
     "output_type": "stream",
     "text": [
      "Jackknife estimate of the mean = 10.027\n"
     ]
    }
   ],
   "source": [
    "wrench_lengths = pickle.load(open('data/wrench_lengths.pk','rb'))\n",
    "# Leave one observation out from wrench_lengths to get the jackknife sample and store the mean length\n",
    "mean_lengths, n = [], len(wrench_lengths)\n",
    "index = np.arange(n)\n",
    "\n",
    "for i in range(n):\n",
    "    jk_sample = wrench_lengths[index != i]\n",
    "    mean_lengths.append(jk_sample.mean())\n",
    "\n",
    "# The jackknife estimate is the mean of the mean lengths from each sample\n",
    "mean_lengths = np.array(mean_lengths)\n",
    "print(\"Jackknife estimate of the mean = {:.3f}\".format(mean_lengths.mean()))"
   ]
  },
  {
   "cell_type": "markdown",
   "metadata": {},
   "source": [
    "## Jackknife confidence interval for the median\n",
    "\n",
    "In this exercise, we will calculate the jackknife 95% CI for a non-standard estimator. Here, we will look at the median. Keep in mind that the variance of a jackknife estimator is n-1 times the variance of the individual jackknife sample estimates where n is the number of observations in the original sample.\n",
    "\n",
    "Returning to the wrench factory, you are now interested in estimating the median length of the wrenches along with a 95% CI to ensure that the wrenches are within tolerance.\n",
    "\n",
    "Let's revisit the code from the previous exercise, but this time in the context of median lengths. By the end of this exercise, you will have a much better idea of how to use jackknife resampling to calculate confidence intervals for non-standard estimators."
   ]
  },
  {
   "cell_type": "code",
   "execution_count": 9,
   "metadata": {},
   "outputs": [
    {
     "name": "stdout",
     "output_type": "stream",
     "text": [
      "Jackknife 95% CI lower = 9.139, upper = 10.755\n"
     ]
    }
   ],
   "source": [
    "# Leave one observation out to get the jackknife sample and store the median length\n",
    "median_lengths = []\n",
    "for i in range(n):\n",
    "    jk_sample = wrench_lengths[index != i]\n",
    "    median_lengths.append(np.median(jk_sample))\n",
    "\n",
    "median_lengths = np.array(median_lengths)\n",
    "\n",
    "# Calculate jackknife estimate and it's variance\n",
    "jk_median_length = np.mean(median_lengths)\n",
    "jk_var = (n-1)*np.var(median_lengths)\n",
    "\n",
    "# Assuming normality, calculate lower and upper 95% confidence intervals\n",
    "print(\"Jackknife 95% CI lower = {:.3f}, upper = {:.3f}\".format(jk_median_length - 1.96 * np.sqrt(jk_var),\n",
    "                                                       jk_median_length + 1.96 * np.sqrt(jk_var)))"
   ]
  },
  {
   "cell_type": "code",
   "execution_count": null,
   "metadata": {},
   "outputs": [],
   "source": []
  }
 ],
 "metadata": {
  "kernelspec": {
   "display_name": "Python 3",
   "language": "python",
   "name": "python3"
  },
  "language_info": {
   "codemirror_mode": {
    "name": "ipython",
    "version": 3
   },
   "file_extension": ".py",
   "mimetype": "text/x-python",
   "name": "python",
   "nbconvert_exporter": "python",
   "pygments_lexer": "ipython3",
   "version": "3.6.6"
  }
 },
 "nbformat": 4,
 "nbformat_minor": 2
}

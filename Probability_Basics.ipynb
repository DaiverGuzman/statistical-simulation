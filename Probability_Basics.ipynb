{
 "cells": [
  {
   "cell_type": "markdown",
   "metadata": {},
   "source": [
    "# Probability Basics\n",
    "\n",
    "In this chapter we will work on basics of probability and will design more complex simulations for real-world problems."
   ]
  },
  {
   "cell_type": "markdown",
   "metadata": {},
   "source": [
    "## Sample Space\n",
    "\n",
    "Imagine a die, for instance, **sample space** is the set of all possible outcomes from 1 to 6.\n",
    "\n",
    "![sample_space](img/sample_space.png)\n",
    "\n",
    "## Probability\n",
    "\n",
    "*Sample Space S*: Set of all possible outcomes\n",
    "\n",
    "*Probability of A, P(A)*: Likelihood of event A  \n",
    "- $0 \\le P(A) \\le 1$\n",
    "- $P(S) = 1$ eg. $P(H) + P(T) = 1$"
   ]
  },
  {
   "cell_type": "markdown",
   "metadata": {},
   "source": [
    "## Using Simulation for Probability Estimation\n",
    "\n",
    "Steps for estimating probability:\n",
    "\n",
    "1. Construct sample space or population.\n",
    "2. Determine how to simulate one outcome.\n",
    "3. Determine rule for success.\n",
    "4. Sample repeatedly and count successes.\n",
    "5. Calculate frequency of success as an estimate of probability.\n",
    "\n",
    "**Let's work on some examples:**"
   ]
  },
  {
   "cell_type": "markdown",
   "metadata": {},
   "source": [
    "### Queen and Spade\n",
    "\n",
    "When a card is drawn from a deck randomly, what is the probability of getting a *Queen* **or** *Spades*?  \n",
    "Hint: $P(A \\cup B) = P(A) + P(B) - P(A \\cap B)$"
   ]
  },
  {
   "cell_type": "code",
   "execution_count": 10,
   "metadata": {},
   "outputs": [
    {
     "name": "stdout",
     "output_type": "stream",
     "text": [
      "Probability of getting Queen or Spades = 16/52\n"
     ]
    }
   ],
   "source": [
    "p_spades = 13/52\n",
    "p_queen = 4/52\n",
    "p_queen_and_spades = 1/52\n",
    "\n",
    "p_queen_or_spades = p_spades + p_queen - p_queen_and_spades\n",
    "print('Probability of getting Queen or Spades = %d/52' % (p_queen_or_spades*52))"
   ]
  },
  {
   "cell_type": "markdown",
   "metadata": {},
   "source": [
    "# Problem 1:\n",
    "\n",
    "## Two of a kind\n",
    "\n",
    "Now let's use simulation to estimate probabilities. Suppose you've been invited to a game of poker at your friend's home. In this variation of the game, you are dealt five cards and the player with the better hand wins. You will use a simulation to estimate the probabilities of getting certain hands. Let's work on estimating the probability of getting at **least two of a kind**. Two of a kind is when you get two cards of different suites but having the same numeric value (e.g., 2 of hearts, 2 of spades, and 3 other cards).\n",
    "\n",
    "By the end of this exercise, you will know how to use simulation to calculate probabilities for card games."
   ]
  },
  {
   "cell_type": "code",
   "execution_count": 60,
   "metadata": {},
   "outputs": [
    {
     "data": {
      "text/plain": [
       "[('Heart', 0), ('Heart', 1), ('Heart', 2)]"
      ]
     },
     "execution_count": 60,
     "metadata": {},
     "output_type": "execute_result"
    }
   ],
   "source": [
    "import numpy as np\n",
    "deck_of_cards = []\n",
    "for i in [\"Heart\",\"Spade\",\"Diamond\",\"Club\"]:\n",
    "    for j in range(13):\n",
    "        deck_of_cards.append((i,j))\n",
    "deck_of_cards[:3]"
   ]
  },
  {
   "cell_type": "code",
   "execution_count": 40,
   "metadata": {},
   "outputs": [
    {
     "name": "stdout",
     "output_type": "stream",
     "text": [
      "Probability of seeing at least two of a kind = 0.4898 \n"
     ]
    }
   ],
   "source": [
    "# Shuffle deck & count card occurrences in the hand\n",
    "n_sims, two_kind = 10000, 0\n",
    "for i in range(n_sims):\n",
    "    np.random.shuffle(deck_of_cards)  # Shuffle the deck every round\n",
    "    hand, cards_in_hand = deck_of_cards[0:5], {}\n",
    "    for card in hand:\n",
    "        # Use .get() method on cards_in_hand\n",
    "        cards_in_hand[card[1]] = cards_in_hand.get(card[1], 0) + 1  # Adds 1 to value if present, else returns 0\n",
    "    \n",
    "    # Condition for getting at least 2 of a kind\n",
    "    highest_card = max(cards_in_hand.values())\n",
    "    if highest_card>=2: \n",
    "        two_kind += 1\n",
    "\n",
    "print(\"Probability of seeing at least two of a kind = {} \".format(two_kind/n_sims))"
   ]
  },
  {
   "cell_type": "markdown",
   "metadata": {},
   "source": [
    "# Problem 2:\n",
    "\n",
    "## Game of thirteen\n",
    "\n",
    "A famous French mathematician Pierre Raymond De Montmart, who was known for his work in combinatorics, proposed a simple game called as Game of Thirteen. You have a deck of 13 cards, each numbered from 1 through 13. Shuffle this deck and draw cards one by one. A coincidence is when the number on the card matches the order in which the card is drawn. For instance, if the 5th card you draw happens to be a 5, it's a coincidence. You win the game if you get through all the cards without any coincidences. Let's calculate the probability of winning at this game using simulation.\n",
    "\n",
    "By completing this exercise, you will further strengthen your ability to cast abstract problems into the simulation framework for estimating probabilities."
   ]
  },
  {
   "cell_type": "code",
   "execution_count": 50,
   "metadata": {},
   "outputs": [
    {
     "name": "stdout",
     "output_type": "stream",
     "text": [
      "Probability of winning = 0.368\n"
     ]
    }
   ],
   "source": [
    "# Pre-set constant variables\n",
    "deck, sims, coincidences = np.arange(1, 14), 10000, 0\n",
    "\n",
    "for _ in range(sims):\n",
    "    # Draw all the cards without replacement to simulate one game\n",
    "    draw = np.random.choice(deck, size=deck.shape[0], replace=False)\n",
    "    # Check if there are any coincidences\n",
    "    coincidence = (draw == list(np.arange(1, 14))).any()\n",
    "    if coincidence: \n",
    "        coincidences += 1\n",
    "\n",
    "# Calculate probability of winning\n",
    "print(\"Probability of winning = {}\".format((sims - coincidences)/sims))"
   ]
  },
  {
   "cell_type": "markdown",
   "metadata": {},
   "source": [
    "## Conditional Probability\n",
    "\n",
    "![cond_prob_1](img/cond_prob_1.png)\n",
    "\n",
    "- $P(A|B)= \\frac{P(A \\cap B)}{P(B)}$\n",
    "\n",
    "\n",
    "- $P(B|A)= \\frac{P(A \\cap B)}{P(A)}$\n",
    "\n",
    "\n",
    "- $P(A \\cap B)= P(B \\cap A)$\n",
    "\n",
    "### Bayes' Rule\n",
    "\n",
    "- $P(A|B)= \\frac{P(B|A) P(A)}{P(B)}$\n",
    "\n",
    "### Independent Events\n",
    "\n",
    "- $P(A \\cap B) = P(A) P(B)$\n",
    "\n",
    "\n",
    "\n",
    "- **Conditional Probability:** $P(A|B) = \\frac{P(A\\cap B)}{P(B)} = \\frac{P(A) P(B)}{P(B)} = P(A)$\n"
   ]
  },
  {
   "cell_type": "markdown",
   "metadata": {},
   "source": [
    "## Problem 3: The conditional urn\n",
    "\n",
    "As we've learned, conditional probability is defined as the probability of an event given another event. To illustrate this concept, let's turn to an urn problem.\n",
    "\n",
    "We have an urn that contains 7 white and 6 black balls. Four balls are drawn at random. We'd like to know the probability that the first and third balls are white, while the second and the fourth balls are black.\n",
    "\n",
    "Upon completion, we will learn to manipulate simulations to calculate simple conditional probabilities."
   ]
  },
  {
   "cell_type": "code",
   "execution_count": 54,
   "metadata": {},
   "outputs": [
    {
     "name": "stdout",
     "output_type": "stream",
     "text": [
      "Probability of success = 0.0718\n"
     ]
    }
   ],
   "source": [
    "# Initialize success, sims and urn\n",
    "success, sims = 0, 5000\n",
    "urn = ['w']*7 + ['b']*6\n",
    "\n",
    "for _ in range(sims):\n",
    "    # Draw 4 balls without replacement\n",
    "    draw = np.random.choice(urn, replace=False, size=4)\n",
    "    # Count the number of successes\n",
    "    if np.array([k==v for k,v in zip(draw,['w','b','w','b'])]).all() : \n",
    "        success +=1\n",
    "\n",
    "print(\"Probability of success = {}\".format(success/sims))"
   ]
  },
  {
   "cell_type": "markdown",
   "metadata": {},
   "source": [
    "## Problem 4: Birthday problem\n",
    "\n",
    "Now we'll use simulation to solve a famous probability puzzle - the birthday problem. It sounds quite straightforward - **How many people do you need in a room to ensure at least a 50% chance that two of them share the same birthday?**\n",
    "\n",
    "With 366 people in a 365-day year, we are 100% sure that at least two have the same birthday, but we only need to be 50% sure. Simulation gives us an elegant way of solving this problem.\n",
    "\n",
    "Upon completion of this exercise, you will begin to understand how to cast problems in a simulation framework."
   ]
  },
  {
   "cell_type": "code",
   "execution_count": 58,
   "metadata": {},
   "outputs": [
    {
     "name": "stdout",
     "output_type": "stream",
     "text": [
      "With 23 people, there's a 50% chance that two share a birthday.\n"
     ]
    }
   ],
   "source": [
    "# Draw a sample of birthdays & check if each birthday is unique\n",
    "days = range(1,366)\n",
    "people = 2\n",
    "\n",
    "def birthday_sim(people):\n",
    "    sims, unique_birthdays = 5000, 0 \n",
    "    for _ in range(sims):\n",
    "        draw = np.random.choice(days, size=people, replace=True)\n",
    "        if len(draw) == len(set(draw)): \n",
    "            unique_birthdays += 1\n",
    "    out = 1 - unique_birthdays / sims\n",
    "    return out\n",
    "\n",
    "# Break out of the loop if probability greater than 0.5\n",
    "while (people > 0):\n",
    "    prop_bds = birthday_sim(people)\n",
    "    if prop_bds > .5: \n",
    "        break\n",
    "    people += 1\n",
    "\n",
    "print(\"With {} people, there's a 50% chance that two share a birthday.\".format(people))"
   ]
  },
  {
   "cell_type": "markdown",
   "metadata": {},
   "source": [
    "## Problem 5: Full house\n",
    "\n",
    "Let's return to our poker game. Last time, we calculated the probability of getting at least two of a kind. This time we are interested in a full house. A full house is when you get two cards of different suits that share the same numeric value and three other cards that have the same numeric value (e.g., 2 of hearts & spades, jacks of clubs, diamonds, & spades).\n",
    "\n",
    "Thus, a full house is the probability of getting exactly three of a kind conditional on getting exactly two of a kind of another value. Using the same code as before, modify the success condition to get the desired output. This exercise will teach you to estimate conditional probabilities in card games and build your foundation in framing abstract problems for simulation."
   ]
  },
  {
   "cell_type": "code",
   "execution_count": 62,
   "metadata": {},
   "outputs": [
    {
     "name": "stdout",
     "output_type": "stream",
     "text": [
      "Probability of seeing a full house = 0.00174\n"
     ]
    }
   ],
   "source": [
    "#Shuffle deck & count card occurrences in the hand\n",
    "n_sims, full_house, deck_of_cards = 50000, 0, deck_of_cards\n",
    "for i in range(n_sims):\n",
    "    np.random.shuffle(deck_of_cards)\n",
    "    hand, cards_in_hand = deck_of_cards[0:5], {}\n",
    "    for card in hand:\n",
    "        # Use .get() method to count occurrences of each card\n",
    "        cards_in_hand[card[1]] = cards_in_hand.get(card[1], 0) + 1\n",
    "        \n",
    "    # Condition for getting full house\n",
    "    condition = (max(cards_in_hand.values()) ==3) & (min(cards_in_hand.values())==2)\n",
    "    if  condition == True: \n",
    "        full_house += 1\n",
    "print(\"Probability of seeing a full house = {}\".format(full_house/n_sims))"
   ]
  },
  {
   "cell_type": "markdown",
   "metadata": {},
   "source": [
    "# Data Generating Process (DGP)\n",
    "\n",
    "![data_generating_process](img/data_gen_proc.png)\n",
    "\n",
    "When designing the statistical model, you want to start by thinking about **what factors influence the data followed  by the sources of uncertainty**.  \n",
    "Once you have these factors quantified, think about the relationship between these factors. You will typically iterate a few times before finalizing the DGP. Designing the DGP is as much an art as it is a science, but with practice, it gets easier over time.\n",
    "\n",
    "Let's start with an example: Modeling India - England Cricket Match!\n",
    "\n",
    "The outcome of the match could be influenced by multiple variables:\n",
    "![variables](img/variables.png)\n",
    "\n",
    "- The weather,\n",
    "- The location,\n",
    "- The pitch conditions,\n",
    "- Recent form; how have the teams been faring recently,\n",
    "- Player morale.\n",
    "\n",
    "The weather and morale are quite uncertain and random.  \n",
    "The location is usually pre-determined.\n",
    "There is some variation in the pitch condition, typically to favor home team.\n",
    "Recent form is known, but certainly varies from game to game.\n",
    "\n",
    "Here is one possible version of DGP:\n",
    "\n",
    "![GDP](img/DGP.png)\n",
    "\n",
    "There are many relationships yet it is important to note that **one factor could influence the outcome in multiple ways**."
   ]
  },
  {
   "cell_type": "markdown",
   "metadata": {},
   "source": [
    "## Problem 6: Driving test\n",
    "\n",
    "Through the next exercises, we will learn how to build a data generating process (DGP) through progressively complex examples.\n",
    "\n",
    "In this exercise, we will simulate a very simple DGP. Suppose that you are about to take a driving test tomorrow. Based on your own practice and based on data you have gathered, you know that the probability of you passing the test is 90% when it's sunny and only 30% when it's raining. Your local weather station forecasts that there's a 40% chance of rain tomorrow. Based on this information, you want to know what is the probability of you passing the driving test tomorrow.\n",
    "\n",
    "This is a simple problem and can be solved analytically. Here, you will learn how to model a simple DGP and see how it can be used for simulation."
   ]
  },
  {
   "cell_type": "code",
   "execution_count": 72,
   "metadata": {},
   "outputs": [
    {
     "name": "stdout",
     "output_type": "stream",
     "text": [
      "Probability of Passing the driving test = 0.6476666666666666\n"
     ]
    }
   ],
   "source": [
    "sims, outcomes, p_rain, p_pass = 3000, [], 0.40, {'sun':0.9, 'rain':0.3}\n",
    "\n",
    "def test_outcome(p_rain):  \n",
    "    # Simulate whether it will rain or not\n",
    "    weather = np.random.choice(['rain','sun'],p=[p_rain, 1 - p_rain])\n",
    "    # Simulate and return whether you will pass or fail\n",
    "    outcome = np.random.choice(['pass','fail'], p=[p_pass[weather], 1 - p_pass[weather]])\n",
    "    return outcome\n",
    "\n",
    "for _ in range(sims):\n",
    "    outcomes.append(test_outcome(p_rain))\n",
    "pas = [1 if i == 'pass' else 0 for i in outcomes]\n",
    "# Calculate fraction of outcomes where you pass\n",
    "print(\"Probability of Passing the driving test = {}\".format(sum(pas)/sims))"
   ]
  },
  {
   "cell_type": "markdown",
   "metadata": {},
   "source": [
    "## Problem 7: National elections\n",
    "\n",
    "This exercise will give you a taste of how you can model a DGP at different levels of complexity.\n",
    "\n",
    "Consider national elections in a country with two political parties - Red and Blue. This country has 50 states and the party that wins the most states wins the elections. You have the probability p of Red winning in each individual state and want to know the probability of Red winning nationally.\n",
    "\n",
    "Let's model the DGP to understand the distribution. Suppose the election outcome in each state follows a binomial distribution with probability p such that 0 indicates a loss for Red and 1 indicates a win. We then simulate a number of election outcomes. Finally, we can ask rich questions like what is the probability of Red winning less than 45% of the states?"
   ]
  },
  {
   "cell_type": "code",
   "execution_count": 87,
   "metadata": {},
   "outputs": [
    {
     "name": "stdout",
     "output_type": "stream",
     "text": [
      "Probability of Red winning in less than 45% of the states = 0.31\n"
     ]
    }
   ],
   "source": [
    "p = np.random.uniform(high=.9, low=.1, size=50)\n",
    "outcomes, sims, probs = [], 1000, p\n",
    "\n",
    "for _ in range(sims):\n",
    "    # Simulate elections in the 50 states\n",
    "    election = np.random.binomial(p=probs, n=1, size=50)\n",
    "    # Get average of Red wins and add to `outcomes`\n",
    "    outcomes.append(election.mean())\n",
    "\n",
    "# Calculate probability of Red winning in less than 45% of the states\n",
    "print(\"Probability of Red winning in less than 45% of the states = {}\"\\\n",
    "          .format(sum(np.array(outcomes)<.45)/len(outcomes)))"
   ]
  },
  {
   "cell_type": "markdown",
   "metadata": {},
   "source": [
    "## Problem 8: Fitness goals\n",
    "\n",
    "\n",
    "Let's model how activity levels impact weight loss using modern fitness trackers. On days when you go to the gym, you average around 15k steps, and around 5k steps otherwise. You go to the gym 40% of the time. Let's model the step counts in a day as a Poisson random variable with a mean λ dependent on whether or not you go to the gym.\n",
    "\n",
    "For simplicity, let’s say you have an 80% chance of losing 1lb and a 20% chance of gaining 1b when you get more than 10k steps. The probabilities are reversed when you get less than 8k steps. Otherwise, there's an even chance of gaining or losing 1lb. Given all this, find the probability of losing weight in a month.\n",
    "\n",
    "Examine the prob variable in the shell, which is the default probability of gaining or losing 1lb."
   ]
  },
  {
   "cell_type": "code",
   "execution_count": 94,
   "metadata": {},
   "outputs": [
    {
     "name": "stdout",
     "output_type": "stream",
     "text": [
      "Probability of Weight Loss = 0.12733333333333333\n"
     ]
    }
   ],
   "source": [
    "days = 30\n",
    "# Simulate steps & choose prob \n",
    "for _ in range(sims):\n",
    "    w = []\n",
    "    for i in range(days):\n",
    "        lam = np.random.choice([5000, 15000], p=[0.6, 0.4], size=1)\n",
    "        steps = np.random.poisson(lam=lam)\n",
    "        if steps > 10000: \n",
    "            prob = [.2, .8]\n",
    "        elif steps < 8000: \n",
    "            prob = [.8, .2]\n",
    "        else:\n",
    "            prob = [0.5, 0.5]\n",
    "        w.append(np.random.choice([1, -1], p=prob))\n",
    "    outcomes.append(sum(w))\n",
    "\n",
    "# Calculate fraction of outcomes where there was a weight loss\n",
    "print(\"Probability of Weight Loss = {}\".format(sum(np.array(outcomes)<0)/len(outcomes)))"
   ]
  },
  {
   "cell_type": "markdown",
   "metadata": {},
   "source": [
    "## Final Step: eCommerce Ad Simulation\n",
    "\n",
    "In this section, we will bring everything we've learned so far together.\n",
    "We will learn how to model a complex DGP by breaking it down into simpler parts. We will then use the statistical model to estimate probabilities.\n",
    "\n",
    "Consider an eCommerce ad model:\n",
    "\n",
    "![e_commerce1](img/ecommerce_1.png)\n",
    "\n",
    "For the signup flow, the number of ad impressions we get is a count variable.\n",
    "\n",
    "This is typically modelled using a Poisson random variable. We can assume the rate of the Poissson variable follows a normal distribution.\n",
    "\n",
    "![e_commerce2](img/ecommerce_2.png)\n",
    "\n",
    "After the Ad Impressions comes to Click or Not to Click, which is a binary, therefore Binomial Random Variable. This one needs a success rate as well, where we can pass historical clickthrough rate.\n",
    "\n",
    "Signup rate, again, can be modelled as a Binomial RV.\n",
    "\n",
    "Now, let's look at the Purchase Flow.\n",
    "\n",
    "![e_commerce3](img/ecommerce_3.png)\n",
    "\n",
    "Average purchase value, differet than the others, could be modelled using an Exponential RV."
   ]
  },
  {
   "cell_type": "markdown",
   "metadata": {},
   "source": [
    "## Final Problem Part 1: Sign up Flow\n",
    "\n",
    "\n",
    "We will now model the DGP of an eCommerce ad flow starting with sign-ups.\n",
    "\n",
    "On any day, we get many ad impressions, which can be modeled as Poisson random variables (RV). You are told that λ is normally distributed with a mean of 100k visitors and standard deviation 2000.\n",
    "\n",
    "During the signup journey, the customer sees an ad, decides whether or not to click, and then whether or not to signup. Thus **both clicks and signups are binary, modeled using binomial RVs**. What about probability p of success? Our current low-cost option gives us a click-through rate of 1% and a sign-up rate of 20%. A higher cost option could increase the clickthrough and signup rate by up to 20%, but we are unsure of the level of improvement, so we model it as a uniform RV."
   ]
  },
  {
   "cell_type": "code",
   "execution_count": 95,
   "metadata": {},
   "outputs": [
    {
     "name": "stdout",
     "output_type": "stream",
     "text": [
      "Simulated Signups = [236]\n"
     ]
    }
   ],
   "source": [
    "# Initialize click-through rate and signup rate dictionaries\n",
    "ct_rate = {'low':0.01, 'high':np.random.uniform(low=0.01, high=1.2*0.01)}\n",
    "su_rate = {'low':0.2, 'high':np.random.uniform(low=0.2, high=1.2*.2)}\n",
    "\n",
    "def get_signups(cost, ct_rate, su_rate, sims):\n",
    "    lam = np.random.normal(loc=100000, scale=2000, size=sims)\n",
    "    # Simulate impressions(poisson), clicks(binomial) and signups(binomial)\n",
    "    impressions = np.random.poisson(lam=lam)\n",
    "    clicks = np.random.binomial(n=impressions, p=ct_rate[cost])\n",
    "    signups = np.random.binomial(n=clicks, p=su_rate[cost])\n",
    "    return signups\n",
    "\n",
    "print(\"Simulated Signups = {}\".format(get_signups('high', ct_rate, su_rate, 1)))"
   ]
  },
  {
   "cell_type": "markdown",
   "metadata": {},
   "source": [
    "## Final Problem Part 2: Purchase Flow\n",
    "\n",
    "After signups, let's model the revenue generation process. Once the customer has signed up, they decide whether or not to purchase - a natural candidate for a binomial RV. Let's assume that 10% of signups result in a purchase.\n",
    "\n",
    "Although customers can make many purchases, let's assume one purchase. The purchase value could be modeled by any continuous RV, but one nice candidate is the exponential RV. Suppose we know that purchase value per customer has averaged around $1000. We use this information to create the purchase_values RV. The revenue, then, is simply the sum of all purchase values."
   ]
  },
  {
   "cell_type": "code",
   "execution_count": 100,
   "metadata": {},
   "outputs": [
    {
     "name": "stdout",
     "output_type": "stream",
     "text": [
      "Simulated Revenue = $16605.883101873016\n"
     ]
    }
   ],
   "source": [
    "def get_revenue(signups):\n",
    "    rev = []\n",
    "    np.random.seed(123)\n",
    "    for s in signups:\n",
    "        # Model purchases as binomial, purchase_values as exponential\n",
    "        purchases = np.random.binomial(s, p=.1)\n",
    "        purchase_values = np.random.exponential(scale=1000, size=purchases)\n",
    "        \n",
    "        # Append to revenue the sum of all purchase values.\n",
    "        rev.append(sum(purchase_values))\n",
    "    return rev\n",
    "\n",
    "print(\"Simulated Revenue = ${}\".format(get_revenue(get_signups('low', ct_rate, su_rate, 1))[0]))"
   ]
  },
  {
   "cell_type": "markdown",
   "metadata": {},
   "source": [
    "## Final Problem Part 3: Probability of losing money\n",
    "\n",
    "In this exercise, we will use the DGP model to estimate probability.\n",
    "\n",
    "As seen earlier, this company has the option of spending extra money, let's say \\$$3000, to redesign the ad. This could potentially get them higher clickthrough and signup rates, but this is not guaranteed. We would like to know whether or not to spend this extra \\$$3000 by calculating the probability of losing money. In other words, the probability that the revenue from the high-cost option minus the revenue from the low-cost option is lesser than the cost.\n",
    "\n",
    "Once we have simulated revenue outcomes, we can ask a rich set of questions that might not have been accessible using traditional analytical methods.\n",
    "\n",
    "This simple yet powerful framework forms the basis of Bayesian methods for getting probabilities."
   ]
  },
  {
   "cell_type": "code",
   "execution_count": 108,
   "metadata": {},
   "outputs": [
    {
     "name": "stdout",
     "output_type": "stream",
     "text": [
      "Probability of losing money = 0.4575\n"
     ]
    }
   ],
   "source": [
    "# Initialize cost_diff\n",
    "sims, cost_diff = 10000, 3000\n",
    "\n",
    "# Get revenue when the cost is 'low' and when the cost is 'high'\n",
    "rev_low = get_revenue(get_signups('low', ct_rate, su_rate, sims))\n",
    "rev_high = get_revenue(get_signups('high', ct_rate, su_rate, sims))\n",
    "\n",
    "diff = ((np.array(rev_high) - np.array(rev_low)) < cost_diff).mean()\n",
    "# calculate fraction of times rev_high - rev_low is less than cost_diff\n",
    "print(\"Probability of losing money = {}\".format(diff))"
   ]
  },
  {
   "cell_type": "code",
   "execution_count": null,
   "metadata": {},
   "outputs": [],
   "source": []
  }
 ],
 "metadata": {
  "kernelspec": {
   "display_name": "Python 3",
   "language": "python",
   "name": "python3"
  },
  "language_info": {
   "codemirror_mode": {
    "name": "ipython",
    "version": 3
   },
   "file_extension": ".py",
   "mimetype": "text/x-python",
   "name": "python",
   "nbconvert_exporter": "python",
   "pygments_lexer": "ipython3",
   "version": "3.6.6"
  }
 },
 "nbformat": 4,
 "nbformat_minor": 2
}

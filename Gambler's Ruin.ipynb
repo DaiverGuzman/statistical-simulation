{
 "cells": [
  {
   "cell_type": "markdown",
   "metadata": {},
   "source": [
    "# A Random Walk\n",
    "\n",
    "At any point in time, we can construct a variable d that represents the number of “heads” (that is, successes from the treatment) minus the number of “tails” (that is, successes from the control). \n",
    "\n",
    "As observations accumulate, the random variable d is described by a simple, one-dimensional random walk. If the treatment has the same conversion rate as the control, the random walk will be symmetrical; because the next success is as likely to come from the treatment as from the control, after each success d is just as likely to increase as it is to decrease. But *if the conversion rates are not equal*, *the random walk will tend to be biased in one direction or the other*.\n",
    "\n",
    "Random walks have been studied extensively. There is a famous problem in the theory of random walks called the gambler’s ruin, which happens to map perfectly to the sequential A/B testing problem. In the next section, we’ll see how the solution to the gambler’s ruin problem will form the basis of a frequentist A/B hypothesis test.\n",
    "\n",
    "## The Gambler’s Ruin\n",
    "\n",
    "Imagine a gambler with ***d*** tokens flipping a coin against an adversary. If the gambler correctly guesses heads or tails, the gambler receives a token from the adversary; if the gambler is incorrect, he loses a token. When the gambler (or the adversary) runs out of tokens, the game is over. (That is, one of them is “ruined”, and presumably is forced to spend the night in the gutter.)"
   ]
  },
  {
   "cell_type": "code",
   "execution_count": 2,
   "metadata": {},
   "outputs": [],
   "source": [
    "import numpy as np\n",
    "import matplotlib.pyplot as plt"
   ]
  },
  {
   "cell_type": "code",
   "execution_count": 3,
   "metadata": {},
   "outputs": [
    {
     "name": "stdout",
     "output_type": "stream",
     "text": [
      "Type I Error:  0.0488\n"
     ]
    }
   ],
   "source": [
    "N = 1000      # anything >200 works great\n",
    "stopped = 0   # null hypothesis rejections\n",
    "for i in range (1,10000): # number of simulations\n",
    "    d = 0\n",
    "    for n in range (1,N):\n",
    "        d += np.random.choice([-1, 1])\n",
    "        if d > 1.96*N**.5:\n",
    "            stopped += 1\n",
    "            break\n",
    "\n",
    "print(\"Type I Error: \", stopped / 10000)"
   ]
  }
 ],
 "metadata": {
  "kernelspec": {
   "display_name": "Python 3",
   "language": "python",
   "name": "python3"
  },
  "language_info": {
   "codemirror_mode": {
    "name": "ipython",
    "version": 3
   },
   "file_extension": ".py",
   "mimetype": "text/x-python",
   "name": "python",
   "nbconvert_exporter": "python",
   "pygments_lexer": "ipython3",
   "version": "3.6.6"
  }
 },
 "nbformat": 4,
 "nbformat_minor": 2
}

{
 "cells": [
  {
   "cell_type": "markdown",
   "metadata": {},
   "source": [
    "## Monte Carlo Integration\n",
    "\n",
    "How would you calculate the area under the curve $x^2$ from $x=1$ to $x=2$?\n",
    "\n",
    "Basically, we can solve the integral below to find the answer to this question:\n",
    "\n",
    "$$\\int_{1}^{2}x^2dx  =  \\frac{x^3}{3} \\Big|_1^2 = \\frac{7}{3} = 2.333$$\n",
    "\n",
    "Now, let's take a Monte Carlo approcah to the same question.\n",
    "\n",
    "![monte carlo curve](img/monte_carlo_square.jpg)\n",
    "\n",
    "- Calculate the overall area,\n",
    "- Randomly sample points in the area,\n",
    "- Multiply the fraction of the points below the curve by overall area.\n",
    "\n",
    "**Calculating the overall area:**"
   ]
  },
  {
   "cell_type": "code",
   "execution_count": 1,
   "metadata": {},
   "outputs": [],
   "source": [
    "x_min = 1\n",
    "x_max = 2\n",
    "\n",
    "def f(x):\n",
    "    return x**2\n",
    "\n",
    "y_min = min(0,f(x_min))\n",
    "y_max = f(x_max)\n",
    "overall_area = abs((x_max - x_min) * (y_max - y_min))"
   ]
  },
  {
   "cell_type": "markdown",
   "metadata": {},
   "source": [
    "**Randomly sample points in the area:**"
   ]
  },
  {
   "cell_type": "code",
   "execution_count": 2,
   "metadata": {},
   "outputs": [],
   "source": [
    "import numpy as np\n",
    "X = np.random.uniform(low=x_min, high=x_max, size=100000)\n",
    "Y = np.random.uniform(low=y_min, high=y_max, size=100000)"
   ]
  },
  {
   "cell_type": "markdown",
   "metadata": {},
   "source": [
    "**Multiply the fraction of the points below the curve by overall area:**"
   ]
  },
  {
   "cell_type": "code",
   "execution_count": 3,
   "metadata": {},
   "outputs": [
    {
     "name": "stdout",
     "output_type": "stream",
     "text": [
      "Result of the integral according to Monte Carlo simulation:  2.334\n"
     ]
    }
   ],
   "source": [
    "result = (Y < X**2).sum() / X.shape[0] * overall_area\n",
    "print('Result of the integral according to Monte Carlo simulation: ',\n",
    "     result)"
   ]
  },
  {
   "cell_type": "code",
   "execution_count": 4,
   "metadata": {},
   "outputs": [
    {
     "data": {
      "text/plain": [
       "<Figure size 640x480 with 1 Axes>"
      ]
     },
     "metadata": {},
     "output_type": "display_data"
    }
   ],
   "source": [
    "import matplotlib.pyplot as plt\n",
    "generic_X = np.linspace(x_min, x_max, 20)\n",
    "generic_Y = generic_X**2\n",
    "plt.scatter(X[:300],Y[:300])\n",
    "plt.plot(generic_X, generic_Y, color='red', linewidth=3)\n",
    "plt.show()"
   ]
  },
  {
   "cell_type": "markdown",
   "metadata": {},
   "source": [
    "Increasing the number of sample points will increase the accuracy of solution."
   ]
  },
  {
   "cell_type": "markdown",
   "metadata": {},
   "source": [
    "### Integrating a Simple Function\n",
    "\n",
    "This is a simple exercise introducing the concept of Monte Carlo Integration.\n",
    "\n",
    "Here we will evaluate a simple integral $$\\int_{0}^{1} xe^xdx$$. \n",
    "\n",
    "We know that the exact answer is 1, but simulation will give us an approximate solution, so we can expect an answer close to 1. As we saw in the video, it's a simple process. For a function of a single variable f(x):\n",
    "\n",
    "1. Get the limits of the x-axis `(xmin,xmax)` and y-axis `(max(f(x)),min(min(f(x)),0))`.\n",
    "2. Generate a number of uniformly distributed point in this box.\n",
    "3. Multiply the area of the box `((max(f(x)−min(f(x))×(xmax−xmin))` by the fraction of points that lie below `f(x)`.\n",
    "\n",
    "\n",
    "Upon completion, you will have a framework for handling definite integrals using Monte Carlo Integration."
   ]
  },
  {
   "cell_type": "code",
   "execution_count": 5,
   "metadata": {},
   "outputs": [
    {
     "name": "stdout",
     "output_type": "stream",
     "text": [
      "Simulated answer = 0.9979442722586828, Actual Answer = 1\n"
     ]
    }
   ],
   "source": [
    "# Define the sim_integrate function\n",
    "def sim_integrate(func, xmin, xmax, sims):\n",
    "    x = np.random.uniform(low=xmin, \n",
    "                          high=xmax, \n",
    "                          size=sims)\n",
    "    y = np.random.uniform(low=min(0,min(func(x))),\n",
    "                          high=max(func(x)), \n",
    "                          size=sims)\n",
    "    area = (max(y) - min(y))*(xmax-xmin)\n",
    "    result = area * sum(y < abs(func(x)))/sims\n",
    "    return result\n",
    "    \n",
    "# Call the sim_integrate function and print results\n",
    "result = sim_integrate(func = lambda x: x*np.e**x, xmin = 0, xmax = 1, sims = 5000)\n",
    "print(\"Simulated answer = {}, Actual Answer = 1\".format(result))"
   ]
  },
  {
   "cell_type": "markdown",
   "metadata": {},
   "source": [
    "### Calculating the value of pi\n",
    "\n",
    "Now we work through a classic example - estimating the value of π.\n",
    "\n",
    "Imagine a square of side 2 with the origin $(0,0)$ as its center and the four corners having coordinates $$(1,1),(1,−1),(−1,1),(−1,−1)$$. \n",
    "\n",
    "The area of this square is $2×2=4$. Now imagine a circle of radius 1 with its center at the origin fitting perfectly inside this square. The area of the circle will be $$\\pi r^2 = \\pi$$\n",
    "\n",
    "To estimate π, we randomly sample multiple points in this square & get the fraction of points inside the circle $$(x^2+y^2\\le 1)$$. \n",
    "\n",
    "The area of the circle then is 4 times this fraction, which gives us our estimate of π.\n",
    "\n",
    "After this exercise, you'll have a grasp of how to use simulation for computation."
   ]
  },
  {
   "cell_type": "code",
   "execution_count": 6,
   "metadata": {},
   "outputs": [
    {
     "name": "stdout",
     "output_type": "stream",
     "text": [
      "Simulated value of pi = 3.1224\n"
     ]
    }
   ],
   "source": [
    "# Initialize sims and circle_points\n",
    "sims, circle_points = 10000, 0 \n",
    "\n",
    "for i in range(sims):\n",
    "    # Generate the two coordinates of a point\n",
    "    point = np.random.uniform(-1, 1, size=2)\n",
    "    # if the point lies within the unit circle, increment counter\n",
    "    within_circle = point[0]**2 + point[1]**2 <= 1\n",
    "    if within_circle == True:\n",
    "        circle_points +=1\n",
    "        \n",
    "# Estimate pi as 4 times the avg number of points in the circle.\n",
    "print(\"Simulated value of pi = {}\".format(circle_points / sims * 4))"
   ]
  }
 ],
 "metadata": {
  "kernelspec": {
   "display_name": "Python 3",
   "language": "python",
   "name": "python3"
  },
  "language_info": {
   "codemirror_mode": {
    "name": "ipython",
    "version": 3
   },
   "file_extension": ".py",
   "mimetype": "text/x-python",
   "name": "python",
   "nbconvert_exporter": "python",
   "pygments_lexer": "ipython3",
   "version": "3.6.6"
  }
 },
 "nbformat": 4,
 "nbformat_minor": 2
}
